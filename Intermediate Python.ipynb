{
 "cells": [
  {
   "cell_type": "markdown",
   "id": "45702075",
   "metadata": {},
   "source": [
    "# 1. Matplotlib"
   ]
  },
  {
   "cell_type": "code",
   "execution_count": 1,
   "id": "00ce36ca",
   "metadata": {},
   "outputs": [],
   "source": [
    "import matplotlib.pyplot as plt"
   ]
  },
  {
   "cell_type": "markdown",
   "id": "e0a90d06",
   "metadata": {},
   "source": []
  },
  {
   "cell_type": "markdown",
   "id": "892a20a7",
   "metadata": {},
   "source": []
  },
  {
   "cell_type": "markdown",
   "id": "f545d1fe",
   "metadata": {},
   "source": []
  },
  {
   "cell_type": "markdown",
   "id": "f59b9cfe",
   "metadata": {},
   "source": []
  },
  {
   "cell_type": "markdown",
   "id": "2dd9c9db",
   "metadata": {},
   "source": []
  },
  {
   "cell_type": "markdown",
   "id": "e69ae207",
   "metadata": {},
   "source": []
  },
  {
   "cell_type": "markdown",
   "id": "0507749f",
   "metadata": {},
   "source": [
    "# 2. Dictionaries"
   ]
  },
  {
   "cell_type": "markdown",
   "id": "5c7011eb",
   "metadata": {},
   "source": [
    "### 2.1. CRUD"
   ]
  },
  {
   "cell_type": "markdown",
   "id": "92ab3ddd",
   "metadata": {},
   "source": [
    "#### Create"
   ]
  },
  {
   "cell_type": "code",
   "execution_count": 2,
   "id": "04a4faa1",
   "metadata": {
    "scrolled": true
   },
   "outputs": [
    {
     "data": {
      "text/plain": [
       "{'Name': 'John Paul M. Curada',\n",
       " 'School': 'Honorato C. Perez, Sr. Memorial Science High School',\n",
       " 'Grade level': 12,\n",
       " 'Section': 'Stephenson'}"
      ]
     },
     "execution_count": 2,
     "metadata": {},
     "output_type": "execute_result"
    }
   ],
   "source": [
    "my_dict = {'Name': 'John Paul M. Curada', \n",
    "           'School': 'Honorato C. Perez, Sr. Memorial Science High School',\n",
    "           'Grade level': 12,\n",
    "           'Section':'Stephenson'\n",
    "          }\n",
    "\n",
    "my_dict"
   ]
  },
  {
   "cell_type": "markdown",
   "id": "a49bdeeb",
   "metadata": {},
   "source": [
    "#### Read"
   ]
  },
  {
   "cell_type": "code",
   "execution_count": 3,
   "id": "5f7e3639",
   "metadata": {
    "scrolled": true
   },
   "outputs": [
    {
     "data": {
      "text/plain": [
       "'Honorato C. Perez, Sr. Memorial Science High School'"
      ]
     },
     "execution_count": 3,
     "metadata": {},
     "output_type": "execute_result"
    }
   ],
   "source": [
    "# Access a single element\n",
    "my_dict['School']"
   ]
  },
  {
   "cell_type": "code",
   "execution_count": 4,
   "id": "fb840799",
   "metadata": {},
   "outputs": [
    {
     "data": {
      "text/plain": [
       "dict_items([('Name', 'John Paul M. Curada'), ('School', 'Honorato C. Perez, Sr. Memorial Science High School'), ('Grade level', 12), ('Section', 'Stephenson')])"
      ]
     },
     "execution_count": 4,
     "metadata": {},
     "output_type": "execute_result"
    }
   ],
   "source": [
    "# Get the key and value within the dictionary \n",
    "my_dict.items()"
   ]
  },
  {
   "cell_type": "code",
   "execution_count": 5,
   "id": "a6540cc0",
   "metadata": {},
   "outputs": [
    {
     "data": {
      "text/plain": [
       "dict_keys(['Name', 'School', 'Grade level', 'Section'])"
      ]
     },
     "execution_count": 5,
     "metadata": {},
     "output_type": "execute_result"
    }
   ],
   "source": [
    "# Get all of the keys of a dictionary\n",
    "my_dict.keys()"
   ]
  },
  {
   "cell_type": "code",
   "execution_count": 6,
   "id": "ee8aee94",
   "metadata": {},
   "outputs": [
    {
     "data": {
      "text/plain": [
       "dict_values(['John Paul M. Curada', 'Honorato C. Perez, Sr. Memorial Science High School', 12, 'Stephenson'])"
      ]
     },
     "execution_count": 6,
     "metadata": {},
     "output_type": "execute_result"
    }
   ],
   "source": [
    "# Get all of the values of a dictionary\n",
    "my_dict.values()"
   ]
  },
  {
   "cell_type": "code",
   "execution_count": 7,
   "id": "0225b23e",
   "metadata": {
    "scrolled": true
   },
   "outputs": [
    {
     "data": {
      "text/plain": [
       "'John Paul M. Curada is from 12 Stephenson'"
      ]
     },
     "execution_count": 7,
     "metadata": {},
     "output_type": "execute_result"
    }
   ],
   "source": [
    "# Accessing dictionary with F-string (formatted string)\n",
    "f\"{my_dict['Name']} is from {my_dict['Grade level']} {my_dict['Section']}\""
   ]
  },
  {
   "cell_type": "code",
   "execution_count": 8,
   "id": "f7a67daf",
   "metadata": {},
   "outputs": [
    {
     "name": "stdout",
     "output_type": "stream",
     "text": [
      "False\n",
      "True\n"
     ]
    }
   ],
   "source": [
    "# Checking if the specified key is in the dictionary\n",
    "print('Age' in my_dict) # --> will return False\n",
    "print('Name' in my_dict) # --> will return True"
   ]
  },
  {
   "cell_type": "markdown",
   "id": "2f2e2b65",
   "metadata": {},
   "source": [
    "#### Update"
   ]
  },
  {
   "cell_type": "code",
   "execution_count": 9,
   "id": "c8399eea",
   "metadata": {
    "scrolled": true
   },
   "outputs": [
    {
     "data": {
      "text/plain": [
       "{'Name': 'John Paul M. Curada',\n",
       " 'School': 'Honorato C. Perez, Sr. Memorial Science High School',\n",
       " 'Grade level': 12,\n",
       " 'Section': 'Stephenson',\n",
       " 'Strand': 'STEM'}"
      ]
     },
     "execution_count": 9,
     "metadata": {},
     "output_type": "execute_result"
    }
   ],
   "source": [
    "# Add a key and a value to an existing dictionary\n",
    "my_dict['Strand'] = 'STEM'\n",
    "my_dict"
   ]
  },
  {
   "cell_type": "code",
   "execution_count": 10,
   "id": "4dd35360",
   "metadata": {
    "scrolled": true
   },
   "outputs": [
    {
     "data": {
      "text/plain": [
       "{'Name': 'JP Curada',\n",
       " 'School': 'Honorato C. Perez, Sr. Memorial Science High School',\n",
       " 'Grade level': 12,\n",
       " 'Section': 'Stephenson',\n",
       " 'Strand': 'STEM'}"
      ]
     },
     "execution_count": 10,
     "metadata": {},
     "output_type": "execute_result"
    }
   ],
   "source": [
    "# Changing the value of a key\n",
    "my_dict['Name'] = 'JP Curada'\n",
    "my_dict"
   ]
  },
  {
   "cell_type": "code",
   "execution_count": 11,
   "id": "6df53932",
   "metadata": {},
   "outputs": [
    {
     "name": "stdout",
     "output_type": "stream",
     "text": [
      "{'Name': 'JP Curada', 'School': 'Honorato C. Perez, Sr. Memorial Science High School', 'Grade level': 12, 'Section': 'Stephenson', 'Strand': 'STEM', 'Academic_strengths': {'Math': 'Algebra', 'Science': 'Stoichiometry', 'Language': 'Filipino'}}\n",
      "\n",
      "{'Math': 'Algebra', 'Science': 'Stoichiometry', 'Language': 'Filipino'}\n",
      "\n",
      "Algebra\n",
      "\n",
      "Stoichiometry\n"
     ]
    }
   ],
   "source": [
    "# Dictionary as a value\n",
    "\n",
    "strengths = {'Math':'Algebra',\n",
    "             'Science': 'Stoichiometry',\n",
    "             'Language': 'Filipino'\n",
    "            }\n",
    "\n",
    "my_dict['Academic_strengths'] = strengths\n",
    "\n",
    "print(my_dict)\n",
    "print('')\n",
    "print(my_dict['Academic_strengths'])\n",
    "print('')\n",
    "print(my_dict['Academic_strengths']['Math'])\n",
    "print('')\n",
    "print(my_dict['Academic_strengths']['Science'])"
   ]
  },
  {
   "cell_type": "markdown",
   "id": "f3af04fa",
   "metadata": {},
   "source": [
    "#### Delete"
   ]
  },
  {
   "cell_type": "code",
   "execution_count": 12,
   "id": "91d4926c",
   "metadata": {},
   "outputs": [
    {
     "data": {
      "text/plain": [
       "{'Name': 'JP Curada',\n",
       " 'School': 'Honorato C. Perez, Sr. Memorial Science High School',\n",
       " 'Grade level': 12,\n",
       " 'Strand': 'STEM',\n",
       " 'Academic_strengths': {'Math': 'Algebra',\n",
       "  'Science': 'Stoichiometry',\n",
       "  'Language': 'Filipino'}}"
      ]
     },
     "execution_count": 12,
     "metadata": {},
     "output_type": "execute_result"
    }
   ],
   "source": [
    "# Delete a key \n",
    "del(my_dict['Section'])\n",
    "my_dict"
   ]
  },
  {
   "cell_type": "markdown",
   "id": "5d03dbc4",
   "metadata": {},
   "source": [
    "### 2.2. Convert Dictionaries to another data types"
   ]
  },
  {
   "cell_type": "code",
   "execution_count": 13,
   "id": "8051b126",
   "metadata": {
    "scrolled": true
   },
   "outputs": [
    {
     "name": "stdout",
     "output_type": "stream",
     "text": [
      "['Name', 'School', 'Grade level', 'Strand', 'Academic_strengths']\n",
      "\n",
      "['JP Curada', 'Honorato C. Perez, Sr. Memorial Science High School', 12, 'STEM', {'Math': 'Algebra', 'Science': 'Stoichiometry', 'Language': 'Filipino'}]\n"
     ]
    }
   ],
   "source": [
    "# Dictionary to list\n",
    "print(list(my_dict)) # --> List of keys\n",
    "print('')\n",
    "print(list(my_dict.values())) # --> List of values"
   ]
  },
  {
   "cell_type": "code",
   "execution_count": 14,
   "id": "80548cf4",
   "metadata": {},
   "outputs": [
    {
     "name": "stdout",
     "output_type": "stream",
     "text": [
      "{'Strand', 'Name', 'Grade level', 'School', 'Academic_strengths'}\n",
      "\n",
      "{'STEM', 'Honorato C. Perez, Sr. Memorial Science High School', 12, 'JP Curada'}\n"
     ]
    }
   ],
   "source": [
    "# Dictionary to set\n",
    "print(set(my_dict)) # --> List of keys\n",
    "print('')\n",
    "\n",
    "# Since the values of this key is a dictionary, it would cause a problem in iteration for converting to set. \n",
    "del(my_dict['Academic_strengths']) \n",
    "\n",
    "print(set(my_dict.values())) # --> List of values"
   ]
  },
  {
   "cell_type": "code",
   "execution_count": 17,
   "id": "d0163603",
   "metadata": {},
   "outputs": [
    {
     "data": {
      "text/plain": [
       "{'Name': 'JP Curada',\n",
       " 'School': 'Honorato C. Perez, Sr. Memorial Science High School',\n",
       " 'Grade level': 12,\n",
       " 'Strand': 'STEM',\n",
       " 'Academic_strengths': {'Math': 'Algebra',\n",
       "  'Science': 'Stoichiometry',\n",
       "  'Language': 'Filipino'}}"
      ]
     },
     "execution_count": 17,
     "metadata": {},
     "output_type": "execute_result"
    }
   ],
   "source": [
    "# Combining two lists with the same len to a dictionary\n",
    "keys = ['Name', 'School', 'Grade level', 'Strand', 'Academic_strengths']\n",
    "vals = ['JP Curada', 'Honorato C. Perez, Sr. Memorial Science High School', 12, 'STEM', {'Math': 'Algebra', 'Science': 'Stoichiometry', 'Language': 'Filipino'}]\n",
    "\n",
    "converted_dict = dict(zip(keys,vals))\n",
    "converted_dict"
   ]
  },
  {
   "cell_type": "markdown",
   "id": "b30a48b0",
   "metadata": {},
   "source": [
    "### 2.3. Dictionary Comprehension"
   ]
  },
  {
   "cell_type": "code",
   "execution_count": null,
   "id": "e9a03b68",
   "metadata": {},
   "outputs": [],
   "source": []
  },
  {
   "cell_type": "markdown",
   "id": "4a7fcff6",
   "metadata": {},
   "source": [
    "# 3. Pandas"
   ]
  },
  {
   "cell_type": "code",
   "execution_count": 21,
   "id": "b3a3ddb3",
   "metadata": {},
   "outputs": [],
   "source": [
    "import pandas as pd"
   ]
  },
  {
   "cell_type": "markdown",
   "id": "1da3e797",
   "metadata": {},
   "source": [
    "### 3.1. CRUD"
   ]
  },
  {
   "cell_type": "markdown",
   "id": "f88adf20",
   "metadata": {},
   "source": [
    "#### Create\n"
   ]
  },
  {
   "cell_type": "code",
   "execution_count": 28,
   "id": "3690de94",
   "metadata": {},
   "outputs": [
    {
     "data": {
      "text/html": [
       "<div>\n",
       "<style scoped>\n",
       "    .dataframe tbody tr th:only-of-type {\n",
       "        vertical-align: middle;\n",
       "    }\n",
       "\n",
       "    .dataframe tbody tr th {\n",
       "        vertical-align: top;\n",
       "    }\n",
       "\n",
       "    .dataframe thead th {\n",
       "        text-align: right;\n",
       "    }\n",
       "</style>\n",
       "<table border=\"1\" class=\"dataframe\">\n",
       "  <thead>\n",
       "    <tr style=\"text-align: right;\">\n",
       "      <th></th>\n",
       "      <th>Subjects</th>\n",
       "      <th>Grades</th>\n",
       "    </tr>\n",
       "  </thead>\n",
       "  <tbody>\n",
       "    <tr>\n",
       "      <th>0</th>\n",
       "      <td>Chemistry I</td>\n",
       "      <td>91</td>\n",
       "    </tr>\n",
       "    <tr>\n",
       "      <th>1</th>\n",
       "      <td>Physics I</td>\n",
       "      <td>93</td>\n",
       "    </tr>\n",
       "    <tr>\n",
       "      <th>2</th>\n",
       "      <td>Statistics</td>\n",
       "      <td>96</td>\n",
       "    </tr>\n",
       "    <tr>\n",
       "      <th>3</th>\n",
       "      <td>Mathematics II</td>\n",
       "      <td>95</td>\n",
       "    </tr>\n",
       "    <tr>\n",
       "      <th>4</th>\n",
       "      <td>Calculus</td>\n",
       "      <td>94</td>\n",
       "    </tr>\n",
       "    <tr>\n",
       "      <th>5</th>\n",
       "      <td>Filipino</td>\n",
       "      <td>89</td>\n",
       "    </tr>\n",
       "    <tr>\n",
       "      <th>6</th>\n",
       "      <td>English</td>\n",
       "      <td>90</td>\n",
       "    </tr>\n",
       "  </tbody>\n",
       "</table>\n",
       "</div>"
      ],
      "text/plain": [
       "         Subjects  Grades\n",
       "0     Chemistry I      91\n",
       "1       Physics I      93\n",
       "2      Statistics      96\n",
       "3  Mathematics II      95\n",
       "4        Calculus      94\n",
       "5        Filipino      89\n",
       "6         English      90"
      ]
     },
     "execution_count": 28,
     "metadata": {},
     "output_type": "execute_result"
    }
   ],
   "source": [
    "my_grades = pd.DataFrame({'Subjects':['Chemistry I', 'Physics I', 'Statistics', 'Mathematics II', 'Calculus', 'Filipino', 'English'],\n",
    "                          'Grades': [91, 93, 96, 95, 94, 89, 90]\n",
    "                         }\n",
    "                        )\n",
    "\n",
    "my_grades"
   ]
  },
  {
   "cell_type": "code",
   "execution_count": 29,
   "id": "21b760d8",
   "metadata": {},
   "outputs": [
    {
     "data": {
      "text/html": [
       "<div>\n",
       "<style scoped>\n",
       "    .dataframe tbody tr th:only-of-type {\n",
       "        vertical-align: middle;\n",
       "    }\n",
       "\n",
       "    .dataframe tbody tr th {\n",
       "        vertical-align: top;\n",
       "    }\n",
       "\n",
       "    .dataframe thead th {\n",
       "        text-align: right;\n",
       "    }\n",
       "</style>\n",
       "<table border=\"1\" class=\"dataframe\">\n",
       "  <thead>\n",
       "    <tr style=\"text-align: right;\">\n",
       "      <th></th>\n",
       "      <th>Subjects</th>\n",
       "      <th>Grades</th>\n",
       "    </tr>\n",
       "  </thead>\n",
       "  <tbody>\n",
       "    <tr>\n",
       "      <th>CHEM</th>\n",
       "      <td>Chemistry I</td>\n",
       "      <td>91</td>\n",
       "    </tr>\n",
       "    <tr>\n",
       "      <th>PHY</th>\n",
       "      <td>Physics I</td>\n",
       "      <td>93</td>\n",
       "    </tr>\n",
       "    <tr>\n",
       "      <th>STAT</th>\n",
       "      <td>Statistics</td>\n",
       "      <td>96</td>\n",
       "    </tr>\n",
       "    <tr>\n",
       "      <th>MATH</th>\n",
       "      <td>Mathematics II</td>\n",
       "      <td>95</td>\n",
       "    </tr>\n",
       "    <tr>\n",
       "      <th>CALC</th>\n",
       "      <td>Calculus</td>\n",
       "      <td>94</td>\n",
       "    </tr>\n",
       "    <tr>\n",
       "      <th>FIL</th>\n",
       "      <td>Filipino</td>\n",
       "      <td>89</td>\n",
       "    </tr>\n",
       "    <tr>\n",
       "      <th>ENG</th>\n",
       "      <td>English</td>\n",
       "      <td>90</td>\n",
       "    </tr>\n",
       "  </tbody>\n",
       "</table>\n",
       "</div>"
      ],
      "text/plain": [
       "            Subjects  Grades\n",
       "CHEM     Chemistry I      91\n",
       "PHY        Physics I      93\n",
       "STAT      Statistics      96\n",
       "MATH  Mathematics II      95\n",
       "CALC        Calculus      94\n",
       "FIL         Filipino      89\n",
       "ENG          English      90"
      ]
     },
     "execution_count": 29,
     "metadata": {},
     "output_type": "execute_result"
    }
   ],
   "source": [
    "# Assign index values\n",
    "my_grades.index = ['CHEM', 'PHY','STAT','MATH','CALC', 'FIL', 'ENG']\n",
    "my_grades"
   ]
  },
  {
   "cell_type": "markdown",
   "id": "c5d78e7b",
   "metadata": {},
   "source": [
    "#### Read"
   ]
  },
  {
   "cell_type": "code",
   "execution_count": 31,
   "id": "3ff4a92e",
   "metadata": {
    "scrolled": true
   },
   "outputs": [
    {
     "data": {
      "text/html": [
       "<div>\n",
       "<style scoped>\n",
       "    .dataframe tbody tr th:only-of-type {\n",
       "        vertical-align: middle;\n",
       "    }\n",
       "\n",
       "    .dataframe tbody tr th {\n",
       "        vertical-align: top;\n",
       "    }\n",
       "\n",
       "    .dataframe thead th {\n",
       "        text-align: right;\n",
       "    }\n",
       "</style>\n",
       "<table border=\"1\" class=\"dataframe\">\n",
       "  <thead>\n",
       "    <tr style=\"text-align: right;\">\n",
       "      <th></th>\n",
       "      <th>Subjects</th>\n",
       "      <th>Grades</th>\n",
       "    </tr>\n",
       "  </thead>\n",
       "  <tbody>\n",
       "    <tr>\n",
       "      <th>CHEM</th>\n",
       "      <td>Chemistry I</td>\n",
       "      <td>91</td>\n",
       "    </tr>\n",
       "    <tr>\n",
       "      <th>PHY</th>\n",
       "      <td>Physics I</td>\n",
       "      <td>93</td>\n",
       "    </tr>\n",
       "    <tr>\n",
       "      <th>STAT</th>\n",
       "      <td>Statistics</td>\n",
       "      <td>96</td>\n",
       "    </tr>\n",
       "    <tr>\n",
       "      <th>MATH</th>\n",
       "      <td>Mathematics II</td>\n",
       "      <td>95</td>\n",
       "    </tr>\n",
       "    <tr>\n",
       "      <th>CALC</th>\n",
       "      <td>Calculus</td>\n",
       "      <td>94</td>\n",
       "    </tr>\n",
       "  </tbody>\n",
       "</table>\n",
       "</div>"
      ],
      "text/plain": [
       "            Subjects  Grades\n",
       "CHEM     Chemistry I      91\n",
       "PHY        Physics I      93\n",
       "STAT      Statistics      96\n",
       "MATH  Mathematics II      95\n",
       "CALC        Calculus      94"
      ]
     },
     "execution_count": 31,
     "metadata": {},
     "output_type": "execute_result"
    }
   ],
   "source": [
    "# Show the first N\n",
    "my_grades.head(5) # --> N = 5 (First 5)"
   ]
  },
  {
   "cell_type": "code",
   "execution_count": 33,
   "id": "db4ca083",
   "metadata": {
    "scrolled": true
   },
   "outputs": [
    {
     "name": "stdout",
     "output_type": "stream",
     "text": [
      "<class 'pandas.core.frame.DataFrame'>\n",
      "Index: 7 entries, CHEM to ENG\n",
      "Data columns (total 2 columns):\n",
      " #   Column    Non-Null Count  Dtype \n",
      "---  ------    --------------  ----- \n",
      " 0   Subjects  7 non-null      object\n",
      " 1   Grades    7 non-null      int64 \n",
      "dtypes: int64(1), object(1)\n",
      "memory usage: 168.0+ bytes\n"
     ]
    }
   ],
   "source": [
    "# Show the DataFrame information\n",
    "my_grades.info()"
   ]
  },
  {
   "cell_type": "code",
   "execution_count": 34,
   "id": "6bd36778",
   "metadata": {},
   "outputs": [
    {
     "data": {
      "text/plain": [
       "Index(['Subjects', 'Grades'], dtype='object')"
      ]
     },
     "execution_count": 34,
     "metadata": {},
     "output_type": "execute_result"
    }
   ],
   "source": [
    "# Show the column headers\n",
    "my_grades.columns"
   ]
  },
  {
   "cell_type": "code",
   "execution_count": 37,
   "id": "a95f56f9",
   "metadata": {
    "scrolled": true
   },
   "outputs": [
    {
     "data": {
      "text/plain": [
       "CHEM    91\n",
       "PHY     93\n",
       "STAT    96\n",
       "MATH    95\n",
       "CALC    94\n",
       "FIL     89\n",
       "ENG     90\n",
       "Name: Grades, dtype: int64"
      ]
     },
     "execution_count": 37,
     "metadata": {},
     "output_type": "execute_result"
    }
   ],
   "source": [
    "# Access the 'Grades' column\n",
    "my_grades.Grades"
   ]
  },
  {
   "cell_type": "code",
   "execution_count": 39,
   "id": "4732001b",
   "metadata": {
    "scrolled": true
   },
   "outputs": [
    {
     "data": {
      "text/plain": [
       "Subjects        Grades\n",
       "Calculus        94        1\n",
       "Chemistry I     91        1\n",
       "English         90        1\n",
       "Filipino        89        1\n",
       "Mathematics II  95        1\n",
       "Physics I       93        1\n",
       "Statistics      96        1\n",
       "dtype: int64"
      ]
     },
     "execution_count": 39,
     "metadata": {},
     "output_type": "execute_result"
    }
   ],
   "source": [
    "# Show the frequency of each values\n",
    "my_grades.value_counts()"
   ]
  },
  {
   "cell_type": "code",
   "execution_count": 41,
   "id": "98276224",
   "metadata": {
    "scrolled": false
   },
   "outputs": [
    {
     "data": {
      "text/html": [
       "<div>\n",
       "<style scoped>\n",
       "    .dataframe tbody tr th:only-of-type {\n",
       "        vertical-align: middle;\n",
       "    }\n",
       "\n",
       "    .dataframe tbody tr th {\n",
       "        vertical-align: top;\n",
       "    }\n",
       "\n",
       "    .dataframe thead th {\n",
       "        text-align: right;\n",
       "    }\n",
       "</style>\n",
       "<table border=\"1\" class=\"dataframe\">\n",
       "  <thead>\n",
       "    <tr style=\"text-align: right;\">\n",
       "      <th></th>\n",
       "      <th>Grades</th>\n",
       "    </tr>\n",
       "  </thead>\n",
       "  <tbody>\n",
       "    <tr>\n",
       "      <th>count</th>\n",
       "      <td>7.000000</td>\n",
       "    </tr>\n",
       "    <tr>\n",
       "      <th>mean</th>\n",
       "      <td>92.571429</td>\n",
       "    </tr>\n",
       "    <tr>\n",
       "      <th>std</th>\n",
       "      <td>2.636737</td>\n",
       "    </tr>\n",
       "    <tr>\n",
       "      <th>min</th>\n",
       "      <td>89.000000</td>\n",
       "    </tr>\n",
       "    <tr>\n",
       "      <th>25%</th>\n",
       "      <td>90.500000</td>\n",
       "    </tr>\n",
       "    <tr>\n",
       "      <th>50%</th>\n",
       "      <td>93.000000</td>\n",
       "    </tr>\n",
       "    <tr>\n",
       "      <th>75%</th>\n",
       "      <td>94.500000</td>\n",
       "    </tr>\n",
       "    <tr>\n",
       "      <th>max</th>\n",
       "      <td>96.000000</td>\n",
       "    </tr>\n",
       "  </tbody>\n",
       "</table>\n",
       "</div>"
      ],
      "text/plain": [
       "          Grades\n",
       "count   7.000000\n",
       "mean   92.571429\n",
       "std     2.636737\n",
       "min    89.000000\n",
       "25%    90.500000\n",
       "50%    93.000000\n",
       "75%    94.500000\n",
       "max    96.000000"
      ]
     },
     "execution_count": 41,
     "metadata": {},
     "output_type": "execute_result"
    }
   ],
   "source": [
    "# Show the DataFrame's Descriptive Statistics\n",
    "my_grades.describe()"
   ]
  },
  {
   "cell_type": "code",
   "execution_count": 63,
   "id": "116fe253",
   "metadata": {},
   "outputs": [
    {
     "data": {
      "text/html": [
       "<div>\n",
       "<style scoped>\n",
       "    .dataframe tbody tr th:only-of-type {\n",
       "        vertical-align: middle;\n",
       "    }\n",
       "\n",
       "    .dataframe tbody tr th {\n",
       "        vertical-align: top;\n",
       "    }\n",
       "\n",
       "    .dataframe thead th {\n",
       "        text-align: right;\n",
       "    }\n",
       "</style>\n",
       "<table border=\"1\" class=\"dataframe\">\n",
       "  <thead>\n",
       "    <tr style=\"text-align: right;\">\n",
       "      <th></th>\n",
       "      <th>Subjects</th>\n",
       "      <th>Grades</th>\n",
       "    </tr>\n",
       "  </thead>\n",
       "  <tbody>\n",
       "    <tr>\n",
       "      <th>CHEM</th>\n",
       "      <td>Chemistry I</td>\n",
       "      <td>91</td>\n",
       "    </tr>\n",
       "    <tr>\n",
       "      <th>PHY</th>\n",
       "      <td>Physics I</td>\n",
       "      <td>93</td>\n",
       "    </tr>\n",
       "    <tr>\n",
       "      <th>STAT</th>\n",
       "      <td>Statistics</td>\n",
       "      <td>96</td>\n",
       "    </tr>\n",
       "    <tr>\n",
       "      <th>MATH</th>\n",
       "      <td>Mathematics II</td>\n",
       "      <td>95</td>\n",
       "    </tr>\n",
       "    <tr>\n",
       "      <th>CALC</th>\n",
       "      <td>Calculus</td>\n",
       "      <td>94</td>\n",
       "    </tr>\n",
       "    <tr>\n",
       "      <th>FIL</th>\n",
       "      <td>Filipino</td>\n",
       "      <td>89</td>\n",
       "    </tr>\n",
       "    <tr>\n",
       "      <th>ENG</th>\n",
       "      <td>English</td>\n",
       "      <td>90</td>\n",
       "    </tr>\n",
       "  </tbody>\n",
       "</table>\n",
       "</div>"
      ],
      "text/plain": [
       "            Subjects  Grades\n",
       "CHEM     Chemistry I      91\n",
       "PHY        Physics I      93\n",
       "STAT      Statistics      96\n",
       "MATH  Mathematics II      95\n",
       "CALC        Calculus      94\n",
       "FIL         Filipino      89\n",
       "ENG          English      90"
      ]
     },
     "execution_count": 63,
     "metadata": {},
     "output_type": "execute_result"
    }
   ],
   "source": [
    "my_grades"
   ]
  },
  {
   "cell_type": "code",
   "execution_count": 72,
   "id": "3f83472b",
   "metadata": {},
   "outputs": [
    {
     "data": {
      "text/plain": [
       "91"
      ]
     },
     "execution_count": 72,
     "metadata": {},
     "output_type": "execute_result"
    }
   ],
   "source": [
    "# Accessing my grade in Chemistry I through loc function (label based location)\n",
    "my_grades.loc['CHEM', 'Grades']"
   ]
  },
  {
   "cell_type": "code",
   "execution_count": 77,
   "id": "8a3ed20e",
   "metadata": {},
   "outputs": [
    {
     "data": {
      "text/plain": [
       "CHEM    91\n",
       "PHY     93\n",
       "STAT    96\n",
       "MATH    95\n",
       "Name: Grades, dtype: int64"
      ]
     },
     "execution_count": 77,
     "metadata": {},
     "output_type": "execute_result"
    }
   ],
   "source": [
    "my_grades.loc['CHEM':'MATH', 'Grades']"
   ]
  },
  {
   "cell_type": "code",
   "execution_count": 73,
   "id": "db128e4b",
   "metadata": {},
   "outputs": [
    {
     "data": {
      "text/plain": [
       "91"
      ]
     },
     "execution_count": 73,
     "metadata": {},
     "output_type": "execute_result"
    }
   ],
   "source": [
    "# Accessing my grade in Chemistry I through iloc function (integer positional location)\n",
    "my_grades.iloc[0,1]"
   ]
  },
  {
   "cell_type": "markdown",
   "id": "cfcac6e4",
   "metadata": {},
   "source": [
    "#### Update"
   ]
  },
  {
   "cell_type": "code",
   "execution_count": null,
   "id": "6b53560c",
   "metadata": {},
   "outputs": [],
   "source": []
  },
  {
   "cell_type": "markdown",
   "id": "0796c8f2",
   "metadata": {},
   "source": [
    "#### Delete"
   ]
  },
  {
   "cell_type": "code",
   "execution_count": null,
   "id": "9af747d0",
   "metadata": {},
   "outputs": [],
   "source": []
  },
  {
   "cell_type": "markdown",
   "id": "c9d6004c",
   "metadata": {},
   "source": [
    "### 3.2. Filtering Pandas DataFrame\n",
    "1. Select the column (series) that you want to use with comparison operators\n",
    "2. Apply an comparison operator at that column\n",
    "3. Subset that column into the original df"
   ]
  },
  {
   "cell_type": "code",
   "execution_count": 46,
   "id": "3420a41c",
   "metadata": {
    "scrolled": true
   },
   "outputs": [
    {
     "data": {
      "text/plain": [
       "pandas.core.series.Series"
      ]
     },
     "execution_count": 46,
     "metadata": {},
     "output_type": "execute_result"
    }
   ],
   "source": [
    "# Pandas Series selection\n",
    "grades_series = my_grades['Grades']\n",
    "type(grades_series)"
   ]
  },
  {
   "cell_type": "code",
   "execution_count": 52,
   "id": "c685a6d0",
   "metadata": {},
   "outputs": [],
   "source": [
    "# Getting the mean\n",
    "mean = grades_series.values.mean()"
   ]
  },
  {
   "cell_type": "code",
   "execution_count": 55,
   "id": "ac6dc66b",
   "metadata": {},
   "outputs": [
    {
     "data": {
      "text/plain": [
       "CHEM    False\n",
       "PHY      True\n",
       "STAT     True\n",
       "MATH     True\n",
       "CALC     True\n",
       "FIL     False\n",
       "ENG     False\n",
       "Name: Grades, dtype: bool"
      ]
     },
     "execution_count": 55,
     "metadata": {},
     "output_type": "execute_result"
    }
   ],
   "source": [
    "grades_bool = grades_series > mean\n",
    "grades_bool"
   ]
  },
  {
   "cell_type": "code",
   "execution_count": 56,
   "id": "2bcd8878",
   "metadata": {
    "scrolled": true
   },
   "outputs": [
    {
     "data": {
      "text/html": [
       "<div>\n",
       "<style scoped>\n",
       "    .dataframe tbody tr th:only-of-type {\n",
       "        vertical-align: middle;\n",
       "    }\n",
       "\n",
       "    .dataframe tbody tr th {\n",
       "        vertical-align: top;\n",
       "    }\n",
       "\n",
       "    .dataframe thead th {\n",
       "        text-align: right;\n",
       "    }\n",
       "</style>\n",
       "<table border=\"1\" class=\"dataframe\">\n",
       "  <thead>\n",
       "    <tr style=\"text-align: right;\">\n",
       "      <th></th>\n",
       "      <th>Subjects</th>\n",
       "      <th>Grades</th>\n",
       "    </tr>\n",
       "  </thead>\n",
       "  <tbody>\n",
       "    <tr>\n",
       "      <th>PHY</th>\n",
       "      <td>Physics I</td>\n",
       "      <td>93</td>\n",
       "    </tr>\n",
       "    <tr>\n",
       "      <th>STAT</th>\n",
       "      <td>Statistics</td>\n",
       "      <td>96</td>\n",
       "    </tr>\n",
       "    <tr>\n",
       "      <th>MATH</th>\n",
       "      <td>Mathematics II</td>\n",
       "      <td>95</td>\n",
       "    </tr>\n",
       "    <tr>\n",
       "      <th>CALC</th>\n",
       "      <td>Calculus</td>\n",
       "      <td>94</td>\n",
       "    </tr>\n",
       "  </tbody>\n",
       "</table>\n",
       "</div>"
      ],
      "text/plain": [
       "            Subjects  Grades\n",
       "PHY        Physics I      93\n",
       "STAT      Statistics      96\n",
       "MATH  Mathematics II      95\n",
       "CALC        Calculus      94"
      ]
     },
     "execution_count": 56,
     "metadata": {},
     "output_type": "execute_result"
    }
   ],
   "source": [
    "# Subset it into the my_grades df\n",
    "my_grades[grades_bool] # --> This will show the subjects that has a grade greater than the mean"
   ]
  },
  {
   "cell_type": "code",
   "execution_count": 60,
   "id": "3e26e896",
   "metadata": {},
   "outputs": [
    {
     "data": {
      "text/html": [
       "<div>\n",
       "<style scoped>\n",
       "    .dataframe tbody tr th:only-of-type {\n",
       "        vertical-align: middle;\n",
       "    }\n",
       "\n",
       "    .dataframe tbody tr th {\n",
       "        vertical-align: top;\n",
       "    }\n",
       "\n",
       "    .dataframe thead th {\n",
       "        text-align: right;\n",
       "    }\n",
       "</style>\n",
       "<table border=\"1\" class=\"dataframe\">\n",
       "  <thead>\n",
       "    <tr style=\"text-align: right;\">\n",
       "      <th></th>\n",
       "      <th>Subjects</th>\n",
       "      <th>Grades</th>\n",
       "    </tr>\n",
       "  </thead>\n",
       "  <tbody>\n",
       "    <tr>\n",
       "      <th>PHY</th>\n",
       "      <td>Physics I</td>\n",
       "      <td>93</td>\n",
       "    </tr>\n",
       "    <tr>\n",
       "      <th>STAT</th>\n",
       "      <td>Statistics</td>\n",
       "      <td>96</td>\n",
       "    </tr>\n",
       "    <tr>\n",
       "      <th>MATH</th>\n",
       "      <td>Mathematics II</td>\n",
       "      <td>95</td>\n",
       "    </tr>\n",
       "    <tr>\n",
       "      <th>CALC</th>\n",
       "      <td>Calculus</td>\n",
       "      <td>94</td>\n",
       "    </tr>\n",
       "  </tbody>\n",
       "</table>\n",
       "</div>"
      ],
      "text/plain": [
       "            Subjects  Grades\n",
       "PHY        Physics I      93\n",
       "STAT      Statistics      96\n",
       "MATH  Mathematics II      95\n",
       "CALC        Calculus      94"
      ]
     },
     "execution_count": 60,
     "metadata": {},
     "output_type": "execute_result"
    }
   ],
   "source": [
    "# Do it with one-liner code\n",
    "above_the_mean_df = my_grades[my_grades['Grades'] > my_grades['Grades'].values.mean()]\n",
    "above_the_mean_df"
   ]
  },
  {
   "cell_type": "markdown",
   "id": "77490c29",
   "metadata": {},
   "source": [
    "### 3.3. Converting Pandas DataFrame to another file formats"
   ]
  },
  {
   "cell_type": "code",
   "execution_count": null,
   "id": "fbb9bd3e",
   "metadata": {},
   "outputs": [],
   "source": []
  },
  {
   "cell_type": "markdown",
   "id": "d74f59dd",
   "metadata": {},
   "source": []
  },
  {
   "cell_type": "code",
   "execution_count": null,
   "id": "f81c03a5",
   "metadata": {},
   "outputs": [],
   "source": []
  },
  {
   "cell_type": "code",
   "execution_count": null,
   "id": "bbbd6553",
   "metadata": {},
   "outputs": [],
   "source": []
  },
  {
   "cell_type": "markdown",
   "id": "cdf02873",
   "metadata": {},
   "source": []
  },
  {
   "cell_type": "markdown",
   "id": "4f78a3cf",
   "metadata": {},
   "source": [
    "### 4. Loop Data Structures"
   ]
  },
  {
   "cell_type": "markdown",
   "id": "735a70cc",
   "metadata": {},
   "source": [
    "### Looping within a List"
   ]
  },
  {
   "cell_type": "code",
   "execution_count": null,
   "id": "b20c7e7b",
   "metadata": {},
   "outputs": [],
   "source": []
  },
  {
   "cell_type": "markdown",
   "id": "40f6bf34",
   "metadata": {},
   "source": [
    "### Looping within a Dictionary"
   ]
  },
  {
   "cell_type": "code",
   "execution_count": 62,
   "id": "dada6f1e",
   "metadata": {},
   "outputs": [
    {
     "data": {
      "text/plain": [
       "[2011, 2012, 2013, 2014, 2015, 2016, 2017, 2018, 2019, 2020]"
      ]
     },
     "execution_count": 62,
     "metadata": {},
     "output_type": "execute_result"
    }
   ],
   "source": [
    "years = [year for year in range(2011, 2021)]\n",
    "years"
   ]
  },
  {
   "cell_type": "markdown",
   "id": "b5e1441e",
   "metadata": {},
   "source": [
    "### Looping within a Numpy Array"
   ]
  },
  {
   "cell_type": "code",
   "execution_count": null,
   "id": "ef54eb9d",
   "metadata": {},
   "outputs": [],
   "source": []
  },
  {
   "cell_type": "markdown",
   "id": "24fcf751",
   "metadata": {},
   "source": [
    "### Looping over a Pandas DataFrame"
   ]
  },
  {
   "cell_type": "code",
   "execution_count": null,
   "id": "0d0e17ca",
   "metadata": {},
   "outputs": [],
   "source": []
  }
 ],
 "metadata": {
  "kernelspec": {
   "display_name": "Python 3 (ipykernel)",
   "language": "python",
   "name": "python3"
  },
  "language_info": {
   "codemirror_mode": {
    "name": "ipython",
    "version": 3
   },
   "file_extension": ".py",
   "mimetype": "text/x-python",
   "name": "python",
   "nbconvert_exporter": "python",
   "pygments_lexer": "ipython3",
   "version": "3.8.13"
  }
 },
 "nbformat": 4,
 "nbformat_minor": 5
}
